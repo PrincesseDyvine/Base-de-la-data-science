{
 "cells": [
  {
   "cell_type": "code",
   "execution_count": 19,
   "id": "c12d5c3d",
   "metadata": {},
   "outputs": [],
   "source": [
    "import pandas as pd\n",
    "df = pd.read_csv(\"data.csv\")"
   ]
  },
  {
   "cell_type": "code",
   "execution_count": 2,
   "id": "bbeaf5f2",
   "metadata": {},
   "outputs": [
    {
     "data": {
      "text/plain": [
       "count      1000\n",
       "unique      528\n",
       "top       $3.73\n",
       "freq          8\n",
       "Name: price_paid, dtype: object"
      ]
     },
     "execution_count": 2,
     "metadata": {},
     "output_type": "execute_result"
    }
   ],
   "source": [
    "df[\"price_paid\"].describe() # affiche juste les rangées qui ont des valeurs\n"
   ]
  },
  {
   "cell_type": "code",
   "execution_count": 3,
   "id": "9045841c",
   "metadata": {},
   "outputs": [],
   "source": [
    "# la somme du prix qui a ete payé\n",
    "df.price_paid = df.price_paid.apply(lambda x: x.replace(\"$\", \"\"))\n",
    "df.price_paid = df.price_paid.astype(float)\n"
   ]
  },
  {
   "cell_type": "code",
   "execution_count": 4,
   "id": "92ee9665",
   "metadata": {},
   "outputs": [
    {
     "data": {
      "text/plain": [
       "6.4619299999999935"
      ]
     },
     "execution_count": 4,
     "metadata": {},
     "output_type": "execute_result"
    }
   ],
   "source": [
    "df[\"price_paid\"].mean() # moyenne"
   ]
  },
  {
   "cell_type": "code",
   "execution_count": 5,
   "id": "cb11f8d0",
   "metadata": {},
   "outputs": [
    {
     "data": {
      "text/plain": [
       "6461.93"
      ]
     },
     "execution_count": 5,
     "metadata": {},
     "output_type": "execute_result"
    }
   ],
   "source": [
    "df[\"price_paid\"].sum() # somme"
   ]
  },
  {
   "cell_type": "code",
   "execution_count": 6,
   "id": "907894b0",
   "metadata": {},
   "outputs": [
    {
     "data": {
      "text/plain": [
       "3.0"
      ]
     },
     "execution_count": 6,
     "metadata": {},
     "output_type": "execute_result"
    }
   ],
   "source": [
    "df[\"price_paid\"].min()"
   ]
  },
  {
   "cell_type": "code",
   "execution_count": 7,
   "id": "1a4b39a2",
   "metadata": {},
   "outputs": [
    {
     "data": {
      "text/plain": [
       "10.0"
      ]
     },
     "execution_count": 7,
     "metadata": {},
     "output_type": "execute_result"
    }
   ],
   "source": [
    "df[\"price_paid\"].max()"
   ]
  },
  {
   "cell_type": "code",
   "execution_count": 8,
   "id": "eafc1802",
   "metadata": {},
   "outputs": [
    {
     "data": {
      "text/plain": [
       "array(['Canada', 'United States', 'Morocco', 'France', nan], dtype=object)"
      ]
     },
     "execution_count": 8,
     "metadata": {},
     "output_type": "execute_result"
    }
   ],
   "source": [
    "# affiche toute les valeurs uniques à l'interieur d'une colonne\n",
    "df[\"country\"].unique()"
   ]
  },
  {
   "cell_type": "code",
   "execution_count": 9,
   "id": "f5443aa6",
   "metadata": {},
   "outputs": [
    {
     "data": {
      "text/plain": [
       "array([ 5.36,  8.32,  3.73,  3.7 ,  9.24,  5.82,  6.29,  3.01,  9.05,\n",
       "        5.71,  3.15,  5.3 ,  5.97,  4.53,  4.1 ,  6.44,  3.16,  4.9 ,\n",
       "        5.55,  4.86,  6.72,  9.79,  8.23,  9.9 ,  5.88,  3.06,  9.52,\n",
       "        6.76,  7.81,  6.02,  5.  ,  5.34,  4.67,  6.22,  3.37,  9.5 ,\n",
       "        4.54,  4.04,  3.45,  4.96,  5.29,  8.11,  7.8 ,  4.21,  9.81,\n",
       "        9.7 ,  9.71,  3.88,  3.4 ,  9.23,  6.57,  9.99,  6.94,  4.26,\n",
       "        9.13,  6.66,  9.35,  3.04,  6.17,  7.68,  4.23,  4.69,  7.56,\n",
       "        5.92,  4.65,  6.79,  8.71,  8.96,  4.39,  7.54,  5.83,  6.39,\n",
       "        9.6 ,  9.68,  9.86,  5.53,  3.51,  8.43,  6.89,  6.68,  4.66,\n",
       "        4.95,  6.77,  7.48,  7.23,  8.12,  5.8 ,  6.06,  4.71,  7.78,\n",
       "        9.67,  9.93,  4.56,  4.42,  4.12,  4.32,  8.83,  3.18,  8.86,\n",
       "        7.2 ,  3.72,  7.67,  8.68,  9.58,  7.91,  7.65,  8.77,  7.17,\n",
       "        9.47,  8.97,  6.07,  9.89,  8.85,  9.37,  7.03,  5.9 ,  4.  ,\n",
       "        6.88,  8.75,  3.03,  6.64,  8.65,  5.98,  8.69,  4.46,  4.24,\n",
       "        8.79,  4.82,  8.16,  7.19,  5.87,  7.05,  3.93,  5.33,  6.09,\n",
       "        5.72,  3.12,  8.45,  6.86,  4.74,  7.98,  8.7 ,  4.57,  4.38,\n",
       "        6.8 ,  6.53,  7.27,  7.75,  3.95, 10.  ,  6.96,  6.58,  5.56,\n",
       "        6.31,  5.49,  6.71,  6.93,  4.92,  9.02,  5.91,  9.27,  4.97,\n",
       "        7.02,  3.1 ,  4.25,  6.16,  4.47,  6.73,  9.32,  7.41,  9.51,\n",
       "        8.88,  5.47,  4.2 ,  9.38,  7.44,  9.1 ,  6.24,  4.43,  3.21,\n",
       "        8.82,  5.68,  6.14,  7.32,  8.62,  5.75,  3.96,  8.21,  3.52,\n",
       "        8.22,  9.45,  7.82,  3.05,  4.61,  7.83,  7.88,  4.48,  4.4 ,\n",
       "        8.37,  6.21,  9.16,  3.34,  8.24,  3.23,  9.3 ,  7.62,  8.74,\n",
       "        8.63,  3.78,  8.15,  3.87,  9.33,  8.02,  8.61,  3.17,  9.83,\n",
       "        4.44,  3.29,  6.11,  4.93,  6.05,  5.63,  9.98,  5.84,  8.19,\n",
       "        3.81,  5.86,  8.84,  3.33,  8.89,  8.34,  6.47,  8.66,  9.57,\n",
       "        3.48,  7.71,  8.27,  3.63,  8.28,  7.04,  3.84,  5.21,  8.33,\n",
       "        9.12,  3.09,  9.19,  8.25,  9.92,  3.79,  8.31,  9.43,  7.72,\n",
       "        3.44,  4.18,  7.12,  7.13,  4.84,  7.3 ,  7.89,  9.04,  4.03,\n",
       "        4.98,  6.7 ,  4.34,  6.32,  5.06,  9.31,  4.3 ,  3.56,  8.41,\n",
       "        6.49,  7.18,  6.75,  4.72,  3.68,  3.6 ,  9.85,  9.88,  6.46,\n",
       "        7.93,  3.53,  7.79,  4.16,  5.54,  5.35,  4.91,  6.5 ,  6.84,\n",
       "        8.17,  3.27,  5.27,  5.62,  3.66,  9.4 ,  5.66,  9.96,  4.76,\n",
       "        6.34,  8.64,  5.65,  5.08,  5.5 ,  6.6 ,  5.45,  8.95,  3.08,\n",
       "        9.97,  7.38,  6.98,  6.37,  4.31,  5.16,  7.9 ,  9.2 ,  8.01,\n",
       "        7.31,  7.66,  8.46,  3.14,  6.35,  3.2 ,  8.08,  7.28,  5.57,\n",
       "        3.49,  9.18,  7.22,  9.06,  6.55,  5.79,  3.25,  7.99,  8.18,\n",
       "        5.15,  6.23,  9.36,  5.05,  3.57,  9.21,  7.52,  3.28,  8.54,\n",
       "        3.8 ,  4.51,  9.75,  7.14,  8.4 ,  7.08,  8.49,  3.02,  6.27,\n",
       "        7.36,  4.01,  6.91,  8.38,  4.78,  8.94,  8.35,  7.96,  7.85,\n",
       "        8.1 ,  6.52,  6.2 ,  4.83,  9.08,  5.32,  7.16,  3.38,  5.61,\n",
       "        8.8 ,  4.22,  9.82,  9.29,  5.48,  5.24,  7.5 ,  7.95,  3.98,\n",
       "        3.74,  4.87,  3.86,  4.17,  3.36,  5.6 ,  6.51,  4.55,  4.36,\n",
       "        7.45,  8.55,  3.77,  3.46,  8.92,  6.4 ,  3.92,  5.1 ,  9.42,\n",
       "        9.09,  5.81,  6.43,  6.48,  6.12,  6.18,  3.31,  8.6 ,  6.85,\n",
       "        4.02,  3.35,  8.42,  5.89,  9.72,  3.61,  7.39,  9.84,  3.22,\n",
       "        4.35,  4.62,  4.49,  4.5 ,  8.72,  6.63,  4.7 ,  6.59,  3.75,\n",
       "        5.2 ,  3.59,  7.09,  5.78,  5.26,  6.62,  4.88,  5.4 ,  3.94,\n",
       "        6.99,  3.91,  3.54,  9.53,  9.65,  3.89,  9.77,  5.25,  3.58,\n",
       "        9.62,  3.69,  4.85,  3.55,  5.09,  4.13,  3.  ,  3.41,  5.69,\n",
       "        4.79,  9.95,  5.76,  6.87,  8.44,  6.19,  7.76,  9.63,  7.43,\n",
       "        4.68,  5.73,  5.42,  7.25,  9.11,  5.44,  5.7 ,  9.8 ,  5.03,\n",
       "        6.81,  5.18,  7.34,  4.05,  4.27,  5.37,  8.9 ,  7.51,  8.48,\n",
       "        3.9 ,  9.26,  3.11,  5.19,  5.51,  8.99,  4.07,  9.01,  8.53,\n",
       "        6.67,  6.56,  6.92,  9.15,  5.67,  5.96,  8.09,  5.11,  7.4 ,\n",
       "        7.33,  5.43,  6.3 ,  5.28,  5.02,  5.93,  9.78,  9.28,  3.5 ,\n",
       "        9.22,  6.15,  9.69,  7.97,  5.94,  9.76,  3.83,  4.73,  6.95,\n",
       "        3.32,  9.03,  4.64,  7.59,  3.3 ,  7.37,  6.13,  7.7 ,  3.07,\n",
       "        6.69,  3.71,  9.55,  4.33,  6.1 ,  4.59])"
      ]
     },
     "execution_count": 9,
     "metadata": {},
     "output_type": "execute_result"
    }
   ],
   "source": [
    "df[\"price_paid\"].unique()"
   ]
  },
  {
   "cell_type": "code",
   "execution_count": 10,
   "id": "1c219e9b",
   "metadata": {},
   "outputs": [
    {
     "data": {
      "text/plain": [
       "France           408\n",
       "United States    333\n",
       "Canada           161\n",
       "Morocco           54\n",
       "Name: country, dtype: int64"
      ]
     },
     "execution_count": 10,
     "metadata": {},
     "output_type": "execute_result"
    }
   ],
   "source": [
    "# combien de clients on a dans chaque pays\n",
    "df[\"country\"].value_counts()"
   ]
  },
  {
   "cell_type": "code",
   "execution_count": 11,
   "id": "282ac9a5",
   "metadata": {},
   "outputs": [
    {
     "data": {
      "text/plain": [
       "Female    493\n",
       "Male      438\n",
       "Name: gender, dtype: int64"
      ]
     },
     "execution_count": 11,
     "metadata": {},
     "output_type": "execute_result"
    }
   ],
   "source": [
    "# connaitre quel est le genre dominant\n",
    "df[\"gender\"].value_counts()"
   ]
  },
  {
   "cell_type": "code",
   "execution_count": 12,
   "id": "e9336b79",
   "metadata": {},
   "outputs": [
    {
     "data": {
      "text/plain": [
       "Female    0.529538\n",
       "Male      0.470462\n",
       "Name: gender, dtype: float64"
      ]
     },
     "execution_count": 12,
     "metadata": {},
     "output_type": "execute_result"
    }
   ],
   "source": [
    "df[\"gender\"].value_counts(normalize=True) # pour avoir sous forme de pourcentage\n"
   ]
  },
  {
   "cell_type": "code",
   "execution_count": 14,
   "id": "4d284b1e",
   "metadata": {},
   "outputs": [
    {
     "data": {
      "text/html": [
       "<div>\n",
       "<style scoped>\n",
       "    .dataframe tbody tr th:only-of-type {\n",
       "        vertical-align: middle;\n",
       "    }\n",
       "\n",
       "    .dataframe tbody tr th {\n",
       "        vertical-align: top;\n",
       "    }\n",
       "\n",
       "    .dataframe thead th {\n",
       "        text-align: right;\n",
       "    }\n",
       "</style>\n",
       "<table border=\"1\" class=\"dataframe\">\n",
       "  <thead>\n",
       "    <tr style=\"text-align: right;\">\n",
       "      <th></th>\n",
       "      <th>id</th>\n",
       "      <th>price_paid</th>\n",
       "      <th>tax</th>\n",
       "    </tr>\n",
       "    <tr>\n",
       "      <th>country</th>\n",
       "      <th></th>\n",
       "      <th></th>\n",
       "      <th></th>\n",
       "    </tr>\n",
       "  </thead>\n",
       "  <tbody>\n",
       "    <tr>\n",
       "      <th>Canada</th>\n",
       "      <td>70365</td>\n",
       "      <td>1017.45</td>\n",
       "      <td>2160.0</td>\n",
       "    </tr>\n",
       "    <tr>\n",
       "      <th>France</th>\n",
       "      <td>214440</td>\n",
       "      <td>2619.61</td>\n",
       "      <td>5100.0</td>\n",
       "    </tr>\n",
       "    <tr>\n",
       "      <th>Morocco</th>\n",
       "      <td>26591</td>\n",
       "      <td>362.97</td>\n",
       "      <td>780.0</td>\n",
       "    </tr>\n",
       "    <tr>\n",
       "      <th>United States</th>\n",
       "      <td>168150</td>\n",
       "      <td>2183.67</td>\n",
       "      <td>4520.0</td>\n",
       "    </tr>\n",
       "  </tbody>\n",
       "</table>\n",
       "</div>"
      ],
      "text/plain": [
       "                   id  price_paid     tax\n",
       "country                                  \n",
       "Canada          70365     1017.45  2160.0\n",
       "France         214440     2619.61  5100.0\n",
       "Morocco         26591      362.97   780.0\n",
       "United States  168150     2183.67  4520.0"
      ]
     },
     "execution_count": 14,
     "metadata": {},
     "output_type": "execute_result"
    }
   ],
   "source": [
    "df.groupby(\"country\").sum() # \n"
   ]
  },
  {
   "cell_type": "code",
   "execution_count": 15,
   "id": "6b228392",
   "metadata": {},
   "outputs": [
    {
     "data": {
      "text/plain": [
       "gender\n",
       "Female    3165.26\n",
       "Male      2833.61\n",
       "Name: price_paid, dtype: float64"
      ]
     },
     "execution_count": 15,
     "metadata": {},
     "output_type": "execute_result"
    }
   ],
   "source": [
    "df.groupby(\"gender\")[\"price_paid\"].sum()"
   ]
  },
  {
   "cell_type": "code",
   "execution_count": 16,
   "id": "67690fc6",
   "metadata": {},
   "outputs": [
    {
     "data": {
      "text/html": [
       "<div>\n",
       "<style scoped>\n",
       "    .dataframe tbody tr th:only-of-type {\n",
       "        vertical-align: middle;\n",
       "    }\n",
       "\n",
       "    .dataframe tbody tr th {\n",
       "        vertical-align: top;\n",
       "    }\n",
       "\n",
       "    .dataframe thead th {\n",
       "        text-align: right;\n",
       "    }\n",
       "</style>\n",
       "<table border=\"1\" class=\"dataframe\">\n",
       "  <thead>\n",
       "    <tr style=\"text-align: right;\">\n",
       "      <th></th>\n",
       "      <th></th>\n",
       "      <th>id</th>\n",
       "      <th>price_paid</th>\n",
       "      <th>tax</th>\n",
       "    </tr>\n",
       "    <tr>\n",
       "      <th>gender</th>\n",
       "      <th>country</th>\n",
       "      <th></th>\n",
       "      <th></th>\n",
       "      <th></th>\n",
       "    </tr>\n",
       "  </thead>\n",
       "  <tbody>\n",
       "    <tr>\n",
       "      <th rowspan=\"4\" valign=\"top\">Female</th>\n",
       "      <th>Canada</th>\n",
       "      <td>461.472973</td>\n",
       "      <td>6.419324</td>\n",
       "      <td>20.0</td>\n",
       "    </tr>\n",
       "    <tr>\n",
       "      <th>France</th>\n",
       "      <td>512.648241</td>\n",
       "      <td>6.350352</td>\n",
       "      <td>20.0</td>\n",
       "    </tr>\n",
       "    <tr>\n",
       "      <th>Morocco</th>\n",
       "      <td>479.925926</td>\n",
       "      <td>7.024815</td>\n",
       "      <td>20.0</td>\n",
       "    </tr>\n",
       "    <tr>\n",
       "      <th>United States</th>\n",
       "      <td>487.282353</td>\n",
       "      <td>6.437118</td>\n",
       "      <td>20.0</td>\n",
       "    </tr>\n",
       "    <tr>\n",
       "      <th rowspan=\"4\" valign=\"top\">Male</th>\n",
       "      <th>Canada</th>\n",
       "      <td>406.000000</td>\n",
       "      <td>6.117467</td>\n",
       "      <td>20.0</td>\n",
       "    </tr>\n",
       "    <tr>\n",
       "      <th>France</th>\n",
       "      <td>534.928177</td>\n",
       "      <td>6.498950</td>\n",
       "      <td>20.0</td>\n",
       "    </tr>\n",
       "    <tr>\n",
       "      <th>Morocco</th>\n",
       "      <td>483.652174</td>\n",
       "      <td>6.146957</td>\n",
       "      <td>20.0</td>\n",
       "    </tr>\n",
       "    <tr>\n",
       "      <th>United States</th>\n",
       "      <td>525.284722</td>\n",
       "      <td>6.672500</td>\n",
       "      <td>20.0</td>\n",
       "    </tr>\n",
       "  </tbody>\n",
       "</table>\n",
       "</div>"
      ],
      "text/plain": [
       "                              id  price_paid   tax\n",
       "gender country                                    \n",
       "Female Canada         461.472973    6.419324  20.0\n",
       "       France         512.648241    6.350352  20.0\n",
       "       Morocco        479.925926    7.024815  20.0\n",
       "       United States  487.282353    6.437118  20.0\n",
       "Male   Canada         406.000000    6.117467  20.0\n",
       "       France         534.928177    6.498950  20.0\n",
       "       Morocco        483.652174    6.146957  20.0\n",
       "       United States  525.284722    6.672500  20.0"
      ]
     },
     "execution_count": 16,
     "metadata": {},
     "output_type": "execute_result"
    }
   ],
   "source": [
    "df.groupby([\"gender\", \"country\"]).mean()"
   ]
  },
  {
   "cell_type": "code",
   "execution_count": 37,
   "id": "6b57e664",
   "metadata": {
    "scrolled": true
   },
   "outputs": [
    {
     "ename": "TypeError",
     "evalue": "no numeric data to plot",
     "output_type": "error",
     "traceback": [
      "\u001b[1;31m---------------------------------------------------------------------------\u001b[0m",
      "\u001b[1;31mTypeError\u001b[0m                                 Traceback (most recent call last)",
      "Input \u001b[1;32mIn [37]\u001b[0m, in \u001b[0;36m<cell line: 5>\u001b[1;34m()\u001b[0m\n\u001b[0;32m      2\u001b[0m \u001b[38;5;28;01mimport\u001b[39;00m \u001b[38;5;21;01mmatplotlib\u001b[39;00m\n\u001b[0;32m      3\u001b[0m \u001b[38;5;66;03m#df.groupby(\"date\")[\"price_paid\"].sum().plot()\u001b[39;00m\n\u001b[0;32m      4\u001b[0m \u001b[38;5;66;03m#df.groupby([\"date\"]).sum().plot()\u001b[39;00m\n\u001b[1;32m----> 5\u001b[0m \u001b[43mdf\u001b[49m\u001b[38;5;241;43m.\u001b[39;49m\u001b[43mgroupby\u001b[49m\u001b[43m(\u001b[49m\u001b[38;5;124;43m'\u001b[39;49m\u001b[38;5;124;43mdate\u001b[39;49m\u001b[38;5;124;43m'\u001b[39;49m\u001b[43m)\u001b[49m\u001b[43m[\u001b[49m\u001b[38;5;124;43m\"\u001b[39;49m\u001b[38;5;124;43mprice_paid\u001b[39;49m\u001b[38;5;124;43m\"\u001b[39;49m\u001b[43m]\u001b[49m\u001b[38;5;241;43m.\u001b[39;49m\u001b[43msum\u001b[49m\u001b[43m(\u001b[49m\u001b[43m)\u001b[49m\u001b[38;5;241;43m.\u001b[39;49m\u001b[43mplot\u001b[49m\u001b[43m(\u001b[49m\u001b[43m)\u001b[49m\n",
      "File \u001b[1;32m~\\anaconda3\\lib\\site-packages\\pandas\\plotting\\_core.py:972\u001b[0m, in \u001b[0;36mPlotAccessor.__call__\u001b[1;34m(self, *args, **kwargs)\u001b[0m\n\u001b[0;32m    969\u001b[0m             label_name \u001b[38;5;241m=\u001b[39m label_kw \u001b[38;5;129;01mor\u001b[39;00m data\u001b[38;5;241m.\u001b[39mcolumns\n\u001b[0;32m    970\u001b[0m             data\u001b[38;5;241m.\u001b[39mcolumns \u001b[38;5;241m=\u001b[39m label_name\n\u001b[1;32m--> 972\u001b[0m \u001b[38;5;28;01mreturn\u001b[39;00m plot_backend\u001b[38;5;241m.\u001b[39mplot(data, kind\u001b[38;5;241m=\u001b[39mkind, \u001b[38;5;241m*\u001b[39m\u001b[38;5;241m*\u001b[39mkwargs)\n",
      "File \u001b[1;32m~\\anaconda3\\lib\\site-packages\\pandas\\plotting\\_matplotlib\\__init__.py:71\u001b[0m, in \u001b[0;36mplot\u001b[1;34m(data, kind, **kwargs)\u001b[0m\n\u001b[0;32m     69\u001b[0m         kwargs[\u001b[38;5;124m\"\u001b[39m\u001b[38;5;124max\u001b[39m\u001b[38;5;124m\"\u001b[39m] \u001b[38;5;241m=\u001b[39m \u001b[38;5;28mgetattr\u001b[39m(ax, \u001b[38;5;124m\"\u001b[39m\u001b[38;5;124mleft_ax\u001b[39m\u001b[38;5;124m\"\u001b[39m, ax)\n\u001b[0;32m     70\u001b[0m plot_obj \u001b[38;5;241m=\u001b[39m PLOT_CLASSES[kind](data, \u001b[38;5;241m*\u001b[39m\u001b[38;5;241m*\u001b[39mkwargs)\n\u001b[1;32m---> 71\u001b[0m \u001b[43mplot_obj\u001b[49m\u001b[38;5;241;43m.\u001b[39;49m\u001b[43mgenerate\u001b[49m\u001b[43m(\u001b[49m\u001b[43m)\u001b[49m\n\u001b[0;32m     72\u001b[0m plot_obj\u001b[38;5;241m.\u001b[39mdraw()\n\u001b[0;32m     73\u001b[0m \u001b[38;5;28;01mreturn\u001b[39;00m plot_obj\u001b[38;5;241m.\u001b[39mresult\n",
      "File \u001b[1;32m~\\anaconda3\\lib\\site-packages\\pandas\\plotting\\_matplotlib\\core.py:327\u001b[0m, in \u001b[0;36mMPLPlot.generate\u001b[1;34m(self)\u001b[0m\n\u001b[0;32m    325\u001b[0m \u001b[38;5;28;01mdef\u001b[39;00m \u001b[38;5;21mgenerate\u001b[39m(\u001b[38;5;28mself\u001b[39m):\n\u001b[0;32m    326\u001b[0m     \u001b[38;5;28mself\u001b[39m\u001b[38;5;241m.\u001b[39m_args_adjust()\n\u001b[1;32m--> 327\u001b[0m     \u001b[38;5;28;43mself\u001b[39;49m\u001b[38;5;241;43m.\u001b[39;49m\u001b[43m_compute_plot_data\u001b[49m\u001b[43m(\u001b[49m\u001b[43m)\u001b[49m\n\u001b[0;32m    328\u001b[0m     \u001b[38;5;28mself\u001b[39m\u001b[38;5;241m.\u001b[39m_setup_subplots()\n\u001b[0;32m    329\u001b[0m     \u001b[38;5;28mself\u001b[39m\u001b[38;5;241m.\u001b[39m_make_plot()\n",
      "File \u001b[1;32m~\\anaconda3\\lib\\site-packages\\pandas\\plotting\\_matplotlib\\core.py:506\u001b[0m, in \u001b[0;36mMPLPlot._compute_plot_data\u001b[1;34m(self)\u001b[0m\n\u001b[0;32m    504\u001b[0m \u001b[38;5;66;03m# no non-numeric frames or series allowed\u001b[39;00m\n\u001b[0;32m    505\u001b[0m \u001b[38;5;28;01mif\u001b[39;00m is_empty:\n\u001b[1;32m--> 506\u001b[0m     \u001b[38;5;28;01mraise\u001b[39;00m \u001b[38;5;167;01mTypeError\u001b[39;00m(\u001b[38;5;124m\"\u001b[39m\u001b[38;5;124mno numeric data to plot\u001b[39m\u001b[38;5;124m\"\u001b[39m)\n\u001b[0;32m    508\u001b[0m \u001b[38;5;28mself\u001b[39m\u001b[38;5;241m.\u001b[39mdata \u001b[38;5;241m=\u001b[39m numeric_data\u001b[38;5;241m.\u001b[39mapply(\u001b[38;5;28mself\u001b[39m\u001b[38;5;241m.\u001b[39m_convert_to_ndarray)\n",
      "\u001b[1;31mTypeError\u001b[0m: no numeric data to plot"
     ]
    }
   ],
   "source": [
    "# afficher pour chaque jour dans le mois le prix total payé\n",
    "import matplotlib\n",
    "#df.groupby(\"date\")[\"price_paid\"].sum().plot()\n",
    "#df.groupby([\"date\"]).sum().plot()\n",
    "df.groupby('date')[\"price_paid\"].sum().plot()"
   ]
  },
  {
   "cell_type": "code",
   "execution_count": 38,
   "id": "ae7e4972",
   "metadata": {},
   "outputs": [],
   "source": [
    "df.price_paid = df.price_paid.apply(lambda x: x.replace(\"$\", \"\"))\n",
    "df.price_paid = df.price_paid.astype(float)"
   ]
  },
  {
   "cell_type": "code",
   "execution_count": 39,
   "id": "df44b84b",
   "metadata": {},
   "outputs": [
    {
     "data": {
      "text/plain": [
       "<AxesSubplot:xlabel='date'>"
      ]
     },
     "execution_count": 39,
     "metadata": {},
     "output_type": "execute_result"
    },
    {
     "data": {
      "image/png": "[encoded data removed]",
      "text/plain": [
       "<Figure size 432x288 with 1 Axes>"
      ]
     },
     "metadata": {
      "needs_background": "light"
     },
     "output_type": "display_data"
    }
   ],
   "source": [
    "df.groupby(\"date\")[\"price_paid\"].sum().plot()"
   ]
  },
  {
   "cell_type": "code",
   "execution_count": 40,
   "id": "756e81a5",
   "metadata": {},
   "outputs": [
    {
     "data": {
      "text/plain": [
       "<AxesSubplot:xlabel='date'>"
      ]
     },
     "execution_count": 40,
     "metadata": {},
     "output_type": "execute_result"
    },
    {
     "data": {
      "image/png": "[encoded data removed]",
      "text/plain": [
       "<Figure size 1080x720 with 1 Axes>"
      ]
     },
     "metadata": {
      "needs_background": "light"
     },
     "output_type": "display_data"
    }
   ],
   "source": [
    "df.groupby(\"date\")[\"price_paid\"].sum().plot(figsize=[15,10]) # pour grossir la figure"
   ]
  },
  {
   "cell_type": "code",
   "execution_count": 41,
   "id": "717a5ea1",
   "metadata": {},
   "outputs": [
    {
     "data": {
      "text/plain": [
       "<AxesSubplot:ylabel='price_paid'>"
      ]
     },
     "execution_count": 41,
     "metadata": {},
     "output_type": "execute_result"
    },
    {
     "data": {
      "image/png": "[encoded data removed]",
      "text/plain": [
       "<Figure size 432x288 with 1 Axes>"
      ]
     },
     "metadata": {},
     "output_type": "display_data"
    }
   ],
   "source": [
    "df.groupby(\"gender\")[\"price_paid\"].sum().plot.pie()"
   ]
  },
  {
   "cell_type": "code",
   "execution_count": 42,
   "id": "ac3aa81f",
   "metadata": {},
   "outputs": [
    {
     "data": {
      "text/plain": [
       "<AxesSubplot:ylabel='price_paid'>"
      ]
     },
     "execution_count": 42,
     "metadata": {},
     "output_type": "execute_result"
    },
    {
     "data": {
      "image/png": "[encoded data removed]",
      "text/plain": [
       "<Figure size 504x504 with 1 Axes>"
      ]
     },
     "metadata": {},
     "output_type": "display_data"
    }
   ],
   "source": [
    "# graphique camember\n",
    "df.groupby(\"gender\")[\"price_paid\"].sum().plot.pie(legend=True, figsize=(7,7))"
   ]
  },
  {
   "cell_type": "code",
   "execution_count": 43,
   "id": "d530d5b0",
   "metadata": {},
   "outputs": [
    {
     "data": {
      "text/plain": [
       "<AxesSubplot:xlabel='country'>"
      ]
     },
     "execution_count": 43,
     "metadata": {},
     "output_type": "execute_result"
    },
    {
     "data": {
      "image/png": "[encoded data removed]",
      "text/plain": [
       "<Figure size 432x288 with 1 Axes>"
      ]
     },
     "metadata": {
      "needs_background": "light"
     },
     "output_type": "display_data"
    }
   ],
   "source": [
    "# graphique en barre\n",
    "df.groupby(\"country\")[\"price_paid\"].sum().plot.bar()"
   ]
  },
  {
   "cell_type": "code",
   "execution_count": 44,
   "id": "d0ecfe21",
   "metadata": {},
   "outputs": [
    {
     "data": {
      "text/plain": [
       "<AxesSubplot:xlabel='country'>"
      ]
     },
     "execution_count": 44,
     "metadata": {},
     "output_type": "execute_result"
    },
    {
     "data": {
      "image/png": "[encoded data removed]",
      "text/plain": [
       "<Figure size 432x288 with 1 Axes>"
      ]
     },
     "metadata": {
      "needs_background": "light"
     },
     "output_type": "display_data"
    }
   ],
   "source": [
    "# graphique en barre\n",
    "df.groupby(\"country\")[\"price_paid\"].sum().plot.bar(rot=45, legend=True)"
   ]
  },
  {
   "cell_type": "code",
   "execution_count": null,
   "id": "278fbc77",
   "metadata": {},
   "outputs": [],
   "source": []
  }
 ],
 "metadata": {
  "kernelspec": {
   "display_name": "Python 3 (ipykernel)",
   "language": "python",
   "name": "python3"
  },
  "language_info": {
   "codemirror_mode": {
    "name": "ipython",
    "version": 3
   },
   "file_extension": ".py",
   "mimetype": "text/x-python",
   "name": "python",
   "nbconvert_exporter": "python",
   "pygments_lexer": "ipython3",
   "version": "3.9.12"
  }
 },
 "nbformat": 4,
 "nbformat_minor": 5
}
