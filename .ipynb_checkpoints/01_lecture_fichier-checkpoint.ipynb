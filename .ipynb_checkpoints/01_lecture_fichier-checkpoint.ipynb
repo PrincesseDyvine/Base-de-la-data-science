{
 "cells": [
  {
   "cell_type": "code",
   "execution_count": 7,
   "id": "7afb5238",
   "metadata": {},
   "outputs": [],
   "source": [
    "# lire un fichier avec pandas"
   ]
  },
  {
   "cell_type": "code",
   "execution_count": 2,
   "id": "4794070a",
   "metadata": {},
   "outputs": [],
   "source": [
    "import pandas as pd"
   ]
  },
  {
   "cell_type": "code",
   "execution_count": 4,
   "id": "420c1c70",
   "metadata": {},
   "outputs": [],
   "source": [
    "df = pd.read_csv(\"data.csv\")\n",
    "# csv c'est des valeurs separée par des virgules"
   ]
  },
  {
   "cell_type": "code",
   "execution_count": 5,
   "id": "d152657d",
   "metadata": {},
   "outputs": [
    {
     "name": "stdout",
     "output_type": "stream",
     "text": [
      "       id        date first_name   last_name                       email  \\\n",
      "0       1  03/28/2021    Marylin      Alders        malders0@shop-pro.jp   \n",
      "1       2  03/19/2021      Hinda    Harridge          hharridge1@gnu.org   \n",
      "2       3  03/17/2021        Erl  Kilminster       ekilminster2@etsy.com   \n",
      "3       4  03/19/2021      Grata      Brantl            gbrantl3@umn.edu   \n",
      "4       5  03/24/2021      Kanya     Beasant         kbeasant4@jigsy.com   \n",
      "..    ...         ...        ...         ...                         ...   \n",
      "995   996  03/24/2021       Duff      Errigo        derrigorn@elpais.com   \n",
      "996   997  03/17/2021        Ame     Rastall       arastallro@toplist.cz   \n",
      "997   998  03/13/2021      Betty    Stickels  bstickelsrp@cloudflare.com   \n",
      "998   999  03/17/2021    Paquito       Tesoe      ptesoerq@rakuten.co.jp   \n",
      "999  1000  03/23/2021   Rochelle    Pringuer       rpringuerrr@house.gov   \n",
      "\n",
      "     gender       ip_address        country price_paid   tax  \n",
      "0      Male    160.119.8.119         Canada      $5.36   NaN  \n",
      "1    Female   210.51.172.132         Canada      $8.32   NaN  \n",
      "2      Male    213.8.101.145  United States      $3.73  20.0  \n",
      "3    Female    5.140.237.101  United States      $3.70  20.0  \n",
      "4      Male  106.252.162.233        Morocco      $9.24  20.0  \n",
      "..      ...              ...            ...        ...   ...  \n",
      "995  Female   193.84.247.144         France      $3.63   NaN  \n",
      "996  Female   188.219.12.109            NaN      $4.59  20.0  \n",
      "997    Male     199.80.60.87  United States      $7.54  20.0  \n",
      "998    Male      0.183.63.11  United States      $5.81   NaN  \n",
      "999     NaN   170.193.249.83         Canada      $8.01  20.0  \n",
      "\n",
      "[1000 rows x 10 columns]\n"
     ]
    }
   ],
   "source": [
    "print(df)"
   ]
  },
  {
   "cell_type": "code",
   "execution_count": null,
   "id": "204e46e5",
   "metadata": {},
   "outputs": [],
   "source": []
  }
 ],
 "metadata": {
  "kernelspec": {
   "display_name": "Python 3 (ipykernel)",
   "language": "python",
   "name": "python3"
  },
  "language_info": {
   "codemirror_mode": {
    "name": "ipython",
    "version": 3
   },
   "file_extension": ".py",
   "mimetype": "text/x-python",
   "name": "python",
   "nbconvert_exporter": "python",
   "pygments_lexer": "ipython3",
   "version": "3.9.12"
  },
  "widgets": {
   "application/vnd.jupyter.widget-state+json": {
    "state": {},
    "version_major": 2,
    "version_minor": 0
   }
  }
 },
 "nbformat": 4,
 "nbformat_minor": 5
}
